{
 "cells": [
  {
   "cell_type": "markdown",
   "metadata": {},
   "source": [
    "# Reinforcement Learning for trading"
   ]
  },
  {
   "cell_type": "markdown",
   "metadata": {},
   "source": [
    "To train a trading agent, we need to create a market environment that provides price and other information, offers trading-related actions, and keeps track of the portfolio to reward the agent accordingly."
   ]
  },
  {
   "cell_type": "markdown",
   "metadata": {},
   "source": [
    "## How to Design an OpenAI trading environment"
   ]
  },
  {
   "cell_type": "markdown",
   "metadata": {},
   "source": [
    "The OpenAI Gym allows for the design, registration, and utilization of environments that adhere to its architecture, as described in its [documentation](https://github.com/openai/gym/tree/master/gym/envs#how-to-create-new-environments-for-gym). The [trading_env.py](trading_env.py) file implements an example that illustrates how to create a class that implements the requisite `step()` and `reset()` methods.\n",
    "\n",
    "The trading environment consists of three classes that interact to facilitate the agent's activities:\n",
    " 1. The `DataSource` class loads a time series, generates a few features, and provides the latest observation to the agent at each time step. \n",
    " 2. `TradingSimulator` tracks the positions, trades and cost, and the performance. It also implements and records the results of a buy-and-hold benchmark strategy. \n",
    " 3. `TradingEnvironment` itself orchestrates the process. "
   ]
  },
  {
   "cell_type": "markdown",
   "metadata": {},
   "source": [
    "## A basic trading game"
   ]
  },
  {
   "cell_type": "markdown",
   "metadata": {},
   "source": [
    "To train the agent, we need to set up a simple game with a limited set of options, a relatively low-dimensional state, and other parameters that can be easily modified and extended.\n",
    "\n",
    "More specifically, the environment samples a stock price time series for a single ticker using a random start date to simulate a trading period that, by default, contains 252 days, or 1 year. The state contains the (scaled) price and volume, as well as some technical indicators like the percentile ranks of price and volume, a relative strength index (RSI), as well as 5- and 21-day returns. The agent can choose from three actions:\n",
    "\n",
    "- **Buy**: Invest capital for a long position in the stock\n",
    "- **Flat**: Hold cash only\n",
    "- **Sell short**: Take a short position equal to the amount of capital\n",
    "\n",
    "The environment accounts for trading cost, which is set to 10bps by default. It also deducts a 1bps time cost per period. It tracks the net asset value (NAV) of the agent's portfolio and compares it against the market portfolio (which trades frictionless to raise the bar for the agent)."
   ]
  },
  {
   "cell_type": "markdown",
   "metadata": {},
   "source": [
    "We use the same DDQN agent and neural network architecture that successfully learned to navigate the Lunar Lander environment. We let exploration continue for 500,000 time steps (~2,000 1yr trading periods) with linear decay of ε to 0.1 and exponential decay at a factor of 0.9999 thereafter."
   ]
  },
  {
   "cell_type": "markdown",
   "metadata": {},
   "source": [
    "## Imports & Settings"
   ]
  },
  {
   "cell_type": "markdown",
   "metadata": {},
   "source": [
    "### Upgrading TensorFlow"
   ]
  },
  {
   "cell_type": "markdown",
   "metadata": {},
   "source": [
    "The code in this notebook requires TensorFlow 2.2. Unfortunately, at the time of writing, `conda` only permits installing TF 2.1 for CPU (2.2 for GPU, see `ml4t-dl-gpu.yml` in the directory `installation/linux`).\n",
    "\n",
    "If you are using the `conda` environment `ml4t-dl`, you need to upgrade the TensorFlow version by running the following commands:"
   ]
  },
  {
   "cell_type": "markdown",
   "metadata": {
    "jupyter": {
     "outputs_hidden": true
    }
   },
   "source": [
    "!conda remove tensorflow -n ml4t-dl -y"
   ]
  },
  {
   "cell_type": "markdown",
   "metadata": {
    "jupyter": {
     "outputs_hidden": true
    }
   },
   "source": [
    "!pip install -U numpy tensorflow"
   ]
  },
  {
   "cell_type": "markdown",
   "metadata": {},
   "source": [
    "- You will need to install talib, follow https://mrjbq7.github.io/ta-lib/install.html"
   ]
  },
  {
   "cell_type": "markdown",
   "metadata": {},
   "source": [
    "### Imports"
   ]
  },
  {
   "cell_type": "code",
   "execution_count": 1,
   "metadata": {
    "ExecuteTime": {
     "end_time": "2020-06-22T18:55:14.873384Z",
     "start_time": "2020-06-22T18:55:13.064489Z"
    }
   },
   "outputs": [],
   "source": [
    "%matplotlib inline\n",
    "from pathlib import Path\n",
    "from time import time\n",
    "from collections import deque\n",
    "from random import sample\n",
    "\n",
    "import numpy as np\n",
    "import pandas as pd\n",
    "\n",
    "import matplotlib.pyplot as plt\n",
    "from matplotlib.ticker import FuncFormatter\n",
    "import seaborn as sns\n",
    "\n",
    "import tensorflow as tf\n",
    "from tensorflow.keras import Sequential\n",
    "from tensorflow.keras.layers import Dense, Dropout\n",
    "from tensorflow.keras.optimizers import Adam\n",
    "from tensorflow.keras.regularizers import l2\n",
    "\n",
    "import gym\n",
    "from gym.envs.registration import register"
   ]
  },
  {
   "cell_type": "markdown",
   "metadata": {},
   "source": [
    "### Settings"
   ]
  },
  {
   "cell_type": "code",
   "execution_count": 2,
   "metadata": {
    "ExecuteTime": {
     "end_time": "2020-06-22T18:55:14.877440Z",
     "start_time": "2020-06-22T18:55:14.874546Z"
    }
   },
   "outputs": [],
   "source": [
    "np.random.seed(42)\n",
    "tf.random.set_seed(42)"
   ]
  },
  {
   "cell_type": "code",
   "execution_count": 3,
   "metadata": {},
   "outputs": [],
   "source": [
    "sns.set_style('whitegrid')"
   ]
  },
  {
   "cell_type": "code",
   "execution_count": 4,
   "metadata": {
    "ExecuteTime": {
     "end_time": "2020-06-22T18:55:14.907979Z",
     "start_time": "2020-06-22T18:55:14.878992Z"
    }
   },
   "outputs": [
    {
     "name": "stdout",
     "output_type": "stream",
     "text": [
      "Using CPU\n"
     ]
    }
   ],
   "source": [
    "gpu_devices = tf.config.experimental.list_physical_devices('GPU')\n",
    "if gpu_devices:\n",
    "    print('Using GPU')\n",
    "    tf.config.experimental.set_memory_growth(gpu_devices[0], True)\n",
    "else:\n",
    "    print('Using CPU')"
   ]
  },
  {
   "cell_type": "code",
   "execution_count": 5,
   "metadata": {
    "ExecuteTime": {
     "end_time": "2020-06-22T18:55:14.916091Z",
     "start_time": "2020-06-22T18:55:14.909430Z"
    }
   },
   "outputs": [],
   "source": [
    "results_path = Path('results', 'trading_bot')\n",
    "if not results_path.exists():\n",
    "    results_path.mkdir(parents=True)"
   ]
  },
  {
   "cell_type": "markdown",
   "metadata": {},
   "source": [
    "### Helper functions"
   ]
  },
  {
   "cell_type": "code",
   "execution_count": 6,
   "metadata": {
    "ExecuteTime": {
     "end_time": "2020-06-22T18:55:14.924657Z",
     "start_time": "2020-06-22T18:55:14.917435Z"
    }
   },
   "outputs": [],
   "source": [
    "def format_time(t):\n",
    "    m_, s = divmod(t, 60)\n",
    "    h, m = divmod(m_, 60)\n",
    "    return '{:02.0f}:{:02.0f}:{:02.0f}'.format(h, m, s)"
   ]
  },
  {
   "cell_type": "markdown",
   "metadata": {},
   "source": [
    "## Set up Gym Environment"
   ]
  },
  {
   "cell_type": "markdown",
   "metadata": {},
   "source": [
    "Before using the custom environment, just like we used the Lunar Lander environment, we need to register it:"
   ]
  },
  {
   "cell_type": "code",
   "execution_count": 7,
   "metadata": {
    "ExecuteTime": {
     "end_time": "2020-06-22T18:55:14.940606Z",
     "start_time": "2020-06-22T18:55:14.925851Z"
    }
   },
   "outputs": [],
   "source": [
    "trading_days = 252"
   ]
  },
  {
   "cell_type": "code",
   "execution_count": 9,
   "metadata": {
    "ExecuteTime": {
     "end_time": "2020-06-22T18:55:14.952650Z",
     "start_time": "2020-06-22T18:55:14.941630Z"
    }
   },
   "outputs": [],
   "source": [
    "register(\n",
    "    id='trading-v0',\n",
    "    entry_point='trading_env:TradingEnvironment',\n",
    "    max_episode_steps=trading_days\n",
    ")"
   ]
  },
  {
   "cell_type": "code",
   "execution_count": null,
   "metadata": {},
   "outputs": [],
   "source": []
  },
  {
   "cell_type": "markdown",
   "metadata": {},
   "source": [
    "### Initialize Trading Environment"
   ]
  },
  {
   "cell_type": "markdown",
   "metadata": {},
   "source": [
    "We can instantiate the environment by using the desired trading costs and ticker:"
   ]
  },
  {
   "cell_type": "code",
   "execution_count": 10,
   "metadata": {
    "ExecuteTime": {
     "end_time": "2020-06-22T18:55:16.896410Z",
     "start_time": "2020-06-22T18:55:14.954625Z"
    }
   },
   "outputs": [
    {
     "name": "stderr",
     "output_type": "stream",
     "text": [
      "INFO:trading_env:trading_env logger started.\n",
      "INFO:trading_env:loading data for AAPL...\n",
      "INFO:trading_env:got data for AAPL...\n",
      "INFO:trading_env:None\n"
     ]
    },
    {
     "name": "stdout",
     "output_type": "stream",
     "text": [
      "<class 'pandas.core.frame.DataFrame'>\n",
      "MultiIndex: 9367 entries, (Timestamp('1981-01-30 00:00:00'), 'AAPL') to (Timestamp('2018-03-27 00:00:00'), 'AAPL')\n",
      "Data columns (total 10 columns):\n",
      " #   Column   Non-Null Count  Dtype  \n",
      "---  ------   --------------  -----  \n",
      " 0   returns  9367 non-null   float64\n",
      " 1   ret_2    9367 non-null   float64\n",
      " 2   ret_5    9367 non-null   float64\n",
      " 3   ret_10   9367 non-null   float64\n",
      " 4   ret_21   9367 non-null   float64\n",
      " 5   rsi      9367 non-null   float64\n",
      " 6   macd     9367 non-null   float64\n",
      " 7   atr      9367 non-null   float64\n",
      " 8   stoch    9367 non-null   float64\n",
      " 9   ultosc   9367 non-null   float64\n",
      "dtypes: float64(10)\n",
      "memory usage: 905.0+ KB\n"
     ]
    },
    {
     "name": "stderr",
     "output_type": "stream",
     "text": [
      "/home/chengyu/anaconda3/envs/pyfinance/lib/python3.8/site-packages/gym/logger.py:30: UserWarning: \u001b[33mWARN: Box bound precision lowered by casting to float32\u001b[0m\n",
      "  warnings.warn(colorize('%s: %s'%('WARN', msg % args), 'yellow'))\n"
     ]
    },
    {
     "data": {
      "text/plain": [
       "[42]"
      ]
     },
     "execution_count": 10,
     "metadata": {},
     "output_type": "execute_result"
    }
   ],
   "source": [
    "trading_environment = gym.make('trading-v0')\n",
    "trading_environment.env.trading_days = trading_days\n",
    "trading_environment.env.trading_cost_bps = 1e-3\n",
    "trading_environment.env.time_cost_bps = 1e-4\n",
    "trading_environment.env.ticker = 'AAPL'\n",
    "trading_environment.seed(42)"
   ]
  },
  {
   "cell_type": "markdown",
   "metadata": {},
   "source": [
    "### Explore a bit of the environment "
   ]
  },
  {
   "cell_type": "markdown",
   "metadata": {},
   "source": [
    "- data available "
   ]
  },
  {
   "cell_type": "code",
   "execution_count": 18,
   "metadata": {},
   "outputs": [
    {
     "name": "stdout",
     "output_type": "stream",
     "text": [
      "Tiacker used: AAPL\n",
      "# of trading days: 252\n"
     ]
    },
    {
     "data": {
      "text/html": [
       "<div>\n",
       "<style scoped>\n",
       "    .dataframe tbody tr th:only-of-type {\n",
       "        vertical-align: middle;\n",
       "    }\n",
       "\n",
       "    .dataframe tbody tr th {\n",
       "        vertical-align: top;\n",
       "    }\n",
       "\n",
       "    .dataframe thead th {\n",
       "        text-align: right;\n",
       "    }\n",
       "</style>\n",
       "<table border=\"1\" class=\"dataframe\">\n",
       "  <thead>\n",
       "    <tr style=\"text-align: right;\">\n",
       "      <th></th>\n",
       "      <th></th>\n",
       "      <th>returns</th>\n",
       "      <th>ret_2</th>\n",
       "      <th>ret_5</th>\n",
       "      <th>ret_10</th>\n",
       "      <th>ret_21</th>\n",
       "      <th>rsi</th>\n",
       "      <th>macd</th>\n",
       "      <th>atr</th>\n",
       "      <th>stoch</th>\n",
       "      <th>ultosc</th>\n",
       "    </tr>\n",
       "    <tr>\n",
       "      <th>date</th>\n",
       "      <th>ticker</th>\n",
       "      <th></th>\n",
       "      <th></th>\n",
       "      <th></th>\n",
       "      <th></th>\n",
       "      <th></th>\n",
       "      <th></th>\n",
       "      <th></th>\n",
       "      <th></th>\n",
       "      <th></th>\n",
       "      <th></th>\n",
       "    </tr>\n",
       "  </thead>\n",
       "  <tbody>\n",
       "    <tr>\n",
       "      <th>1981-01-30</th>\n",
       "      <th>AAPL</th>\n",
       "      <td>-0.054235</td>\n",
       "      <td>-2.182875</td>\n",
       "      <td>-2.203772</td>\n",
       "      <td>-1.085791</td>\n",
       "      <td>-1.447542</td>\n",
       "      <td>-1.529044</td>\n",
       "      <td>-0.171568</td>\n",
       "      <td>-0.601086</td>\n",
       "      <td>0.282942</td>\n",
       "      <td>-2.763728</td>\n",
       "    </tr>\n",
       "    <tr>\n",
       "      <th>1981-02-02</th>\n",
       "      <th>AAPL</th>\n",
       "      <td>-0.057345</td>\n",
       "      <td>-2.657618</td>\n",
       "      <td>-2.773044</td>\n",
       "      <td>-2.191345</td>\n",
       "      <td>-1.862101</td>\n",
       "      <td>-1.529044</td>\n",
       "      <td>-0.174969</td>\n",
       "      <td>-0.600210</td>\n",
       "      <td>0.000242</td>\n",
       "      <td>-3.206694</td>\n",
       "    </tr>\n",
       "    <tr>\n",
       "      <th>1981-02-03</th>\n",
       "      <th>AAPL</th>\n",
       "      <td>0.037176</td>\n",
       "      <td>-0.587404</td>\n",
       "      <td>-2.195593</td>\n",
       "      <td>-1.576822</td>\n",
       "      <td>-1.516944</td>\n",
       "      <td>-1.211224</td>\n",
       "      <td>-0.178460</td>\n",
       "      <td>-0.600101</td>\n",
       "      <td>-0.420924</td>\n",
       "      <td>-2.404365</td>\n",
       "    </tr>\n",
       "    <tr>\n",
       "      <th>1981-02-04</th>\n",
       "      <th>AAPL</th>\n",
       "      <td>0.036206</td>\n",
       "      <td>1.743708</td>\n",
       "      <td>-1.267360</td>\n",
       "      <td>-1.421133</td>\n",
       "      <td>-1.004094</td>\n",
       "      <td>-0.322182</td>\n",
       "      <td>-0.181500</td>\n",
       "      <td>-0.599986</td>\n",
       "      <td>-1.338284</td>\n",
       "      <td>-1.777520</td>\n",
       "    </tr>\n",
       "    <tr>\n",
       "      <th>1981-02-05</th>\n",
       "      <th>AAPL</th>\n",
       "      <td>0.000000</td>\n",
       "      <td>0.818215</td>\n",
       "      <td>-0.727939</td>\n",
       "      <td>-1.529499</td>\n",
       "      <td>-0.711763</td>\n",
       "      <td>0.687397</td>\n",
       "      <td>-0.184094</td>\n",
       "      <td>-0.601118</td>\n",
       "      <td>-2.260681</td>\n",
       "      <td>-1.871191</td>\n",
       "    </tr>\n",
       "  </tbody>\n",
       "</table>\n",
       "</div>"
      ],
      "text/plain": [
       "                    returns     ret_2     ret_5    ret_10    ret_21       rsi  \\\n",
       "date       ticker                                                               \n",
       "1981-01-30 AAPL   -0.054235 -2.182875 -2.203772 -1.085791 -1.447542 -1.529044   \n",
       "1981-02-02 AAPL   -0.057345 -2.657618 -2.773044 -2.191345 -1.862101 -1.529044   \n",
       "1981-02-03 AAPL    0.037176 -0.587404 -2.195593 -1.576822 -1.516944 -1.211224   \n",
       "1981-02-04 AAPL    0.036206  1.743708 -1.267360 -1.421133 -1.004094 -0.322182   \n",
       "1981-02-05 AAPL    0.000000  0.818215 -0.727939 -1.529499 -0.711763  0.687397   \n",
       "\n",
       "                       macd       atr     stoch    ultosc  \n",
       "date       ticker                                          \n",
       "1981-01-30 AAPL   -0.171568 -0.601086  0.282942 -2.763728  \n",
       "1981-02-02 AAPL   -0.174969 -0.600210  0.000242 -3.206694  \n",
       "1981-02-03 AAPL   -0.178460 -0.600101 -0.420924 -2.404365  \n",
       "1981-02-04 AAPL   -0.181500 -0.599986 -1.338284 -1.777520  \n",
       "1981-02-05 AAPL   -0.184094 -0.601118 -2.260681 -1.871191  "
      ]
     },
     "execution_count": 18,
     "metadata": {},
     "output_type": "execute_result"
    }
   ],
   "source": [
    "print(\"Tiacker used: {}\".format(trading_environment.data_source.ticker))\n",
    "print(\"# of trading days: {}\".format(trading_environment.trading_days))\n",
    "print(\"All data are Mean/SD normalized\")\n",
    "trading_environment.data_source.data.head()"
   ]
  },
  {
   "cell_type": "code",
   "execution_count": null,
   "metadata": {},
   "outputs": [],
   "source": [
    "trading_environment.action_space"
   ]
  },
  {
   "cell_type": "markdown",
   "metadata": {},
   "source": [
    "### Get Environment Params"
   ]
  },
  {
   "cell_type": "code",
   "execution_count": 10,
   "metadata": {
    "ExecuteTime": {
     "end_time": "2020-06-22T18:55:16.904269Z",
     "start_time": "2020-06-22T18:55:16.899993Z"
    }
   },
   "outputs": [],
   "source": [
    "state_dim = trading_environment.observation_space.shape[0]\n",
    "num_actions = trading_environment.action_space.n\n",
    "max_episode_steps = trading_environment.spec.max_episode_steps"
   ]
  },
  {
   "cell_type": "markdown",
   "metadata": {},
   "source": [
    "## Define Trading Agent"
   ]
  },
  {
   "cell_type": "code",
   "execution_count": 14,
   "metadata": {
    "ExecuteTime": {
     "end_time": "2020-06-22T18:55:16.938081Z",
     "start_time": "2020-06-22T18:55:16.907028Z"
    }
   },
   "outputs": [],
   "source": [
    "class DDQNAgent:\n",
    "    def __init__(self, state_dim,\n",
    "                 num_actions,\n",
    "                 learning_rate,\n",
    "                 gamma,\n",
    "                 epsilon_start,\n",
    "                 epsilon_end,\n",
    "                 epsilon_decay_steps,\n",
    "                 epsilon_exponential_decay,\n",
    "                 replay_capacity,\n",
    "                 architecture,\n",
    "                 l2_reg,\n",
    "                 tau,\n",
    "                 batch_size):\n",
    "\n",
    "        self.state_dim = state_dim\n",
    "        self.num_actions = num_actions\n",
    "        self.experience = deque([], maxlen=replay_capacity)\n",
    "        self.learning_rate = learning_rate\n",
    "        self.gamma = gamma\n",
    "        self.architecture = architecture\n",
    "        self.l2_reg = l2_reg\n",
    "\n",
    "        self.online_network = self.build_model()\n",
    "        self.target_network = self.build_model(trainable=False)\n",
    "        self.update_target()\n",
    "\n",
    "        self.epsilon = epsilon_start\n",
    "        self.epsilon_decay_steps = epsilon_decay_steps\n",
    "        self.epsilon_decay = (epsilon_start - epsilon_end) / epsilon_decay_steps\n",
    "        self.epsilon_exponential_decay = epsilon_exponential_decay\n",
    "        self.epsilon_history = []\n",
    "\n",
    "        self.total_steps = self.train_steps = 0\n",
    "        self.episodes = self.episode_length = self.train_episodes = 0\n",
    "        self.steps_per_episode = []\n",
    "        self.episode_reward = 0\n",
    "        self.rewards_history = []\n",
    "\n",
    "        self.batch_size = batch_size\n",
    "        self.tau = tau\n",
    "        self.losses = []\n",
    "        self.idx = tf.range(batch_size)\n",
    "        self.train = True\n",
    "\n",
    "    def build_model(self, trainable=True):\n",
    "        layers = []\n",
    "        n = len(self.architecture)\n",
    "        for i, units in enumerate(self.architecture, 1):\n",
    "            layers.append(Dense(units=units,\n",
    "                                input_dim=self.state_dim if i == 1 else None,\n",
    "                                activation='relu',\n",
    "                                kernel_regularizer=l2(self.l2_reg),\n",
    "                                name=f'Dense_{i}',\n",
    "                                trainable=trainable))\n",
    "        layers.append(Dropout(.1))\n",
    "        layers.append(Dense(units=self.num_actions,\n",
    "                            trainable=trainable,\n",
    "                            name='Output'))\n",
    "        model = Sequential(layers)\n",
    "        model.compile(loss='mean_squared_error',\n",
    "                      optimizer=Adam(lr=self.learning_rate))\n",
    "        return model\n",
    "\n",
    "    def update_target(self):\n",
    "        self.target_network.set_weights(self.online_network.get_weights())\n",
    "\n",
    "    def epsilon_greedy_policy(self, state):\n",
    "        self.total_steps += 1\n",
    "        if np.random.rand() <= self.epsilon:\n",
    "            return np.random.choice(self.num_actions)\n",
    "        q = self.online_network.predict(state)\n",
    "        return np.argmax(q, axis=1).squeeze()\n",
    "\n",
    "    def memorize_transition(self, s, a, r, s_prime, not_done):\n",
    "        if not_done:\n",
    "            self.episode_reward += r\n",
    "            self.episode_length += 1\n",
    "        else:\n",
    "            if self.train:\n",
    "                if self.episodes < self.epsilon_decay_steps:\n",
    "                    self.epsilon -= self.epsilon_decay\n",
    "                else:\n",
    "                    self.epsilon *= self.epsilon_exponential_decay\n",
    "\n",
    "            self.episodes += 1\n",
    "            self.rewards_history.append(self.episode_reward)\n",
    "            self.steps_per_episode.append(self.episode_length)\n",
    "            self.episode_reward, self.episode_length = 0, 0\n",
    "\n",
    "        self.experience.append((s, a, r, s_prime, not_done))\n",
    "\n",
    "    def experience_replay(self):\n",
    "        if self.batch_size > len(self.experience):\n",
    "            return\n",
    "        minibatch = map(np.array, zip(*sample(self.experience, self.batch_size)))\n",
    "        states, actions, rewards, next_states, not_done = minibatch\n",
    "\n",
    "        next_q_values = self.online_network.predict_on_batch(next_states)\n",
    "        best_actions = tf.argmax(next_q_values, axis=1)\n",
    "\n",
    "        next_q_values_target = self.target_network.predict_on_batch(next_states)\n",
    "        target_q_values = tf.gather_nd(next_q_values_target,\n",
    "                                       tf.stack((self.idx, tf.cast(best_actions, tf.int32)), axis=1))\n",
    "\n",
    "        targets = rewards + not_done * self.gamma * target_q_values\n",
    "\n",
    "        q_values = self.online_network.predict_on_batch(states)\n",
    "        q_values[[self.idx, actions]] = targets\n",
    "\n",
    "        loss = self.online_network.train_on_batch(x=states, y=q_values)\n",
    "        self.losses.append(loss)\n",
    "\n",
    "        if self.total_steps % self.tau == 0:\n",
    "            self.update_target()"
   ]
  },
  {
   "cell_type": "markdown",
   "metadata": {},
   "source": [
    "## Define hyperparameters"
   ]
  },
  {
   "cell_type": "code",
   "execution_count": 15,
   "metadata": {
    "ExecuteTime": {
     "end_time": "2020-06-22T18:55:16.960294Z",
     "start_time": "2020-06-22T18:55:16.940891Z"
    }
   },
   "outputs": [],
   "source": [
    "gamma = .99,  # discount factor\n",
    "tau = 100  # target network update frequency"
   ]
  },
  {
   "cell_type": "markdown",
   "metadata": {},
   "source": [
    "### NN Architecture"
   ]
  },
  {
   "cell_type": "code",
   "execution_count": 16,
   "metadata": {
    "ExecuteTime": {
     "end_time": "2020-06-22T18:55:16.976898Z",
     "start_time": "2020-06-22T18:55:16.961660Z"
    }
   },
   "outputs": [],
   "source": [
    "architecture = (256, 256)  # units per layer\n",
    "learning_rate = 0.0001  # learning rate\n",
    "l2_reg = 1e-6  # L2 regularization"
   ]
  },
  {
   "cell_type": "markdown",
   "metadata": {},
   "source": [
    "### Experience Replay"
   ]
  },
  {
   "cell_type": "code",
   "execution_count": 17,
   "metadata": {
    "ExecuteTime": {
     "end_time": "2020-06-22T18:55:16.981461Z",
     "start_time": "2020-06-22T18:55:16.978282Z"
    }
   },
   "outputs": [],
   "source": [
    "replay_capacity = int(1e6)\n",
    "batch_size = 4096"
   ]
  },
  {
   "cell_type": "markdown",
   "metadata": {},
   "source": [
    "### $\\epsilon$-greedy Policy"
   ]
  },
  {
   "cell_type": "code",
   "execution_count": 18,
   "metadata": {
    "ExecuteTime": {
     "end_time": "2020-06-22T18:55:16.990720Z",
     "start_time": "2020-06-22T18:55:16.983526Z"
    }
   },
   "outputs": [],
   "source": [
    "epsilon_start = 1.0\n",
    "epsilon_end = .01\n",
    "epsilon_decay_steps = 250\n",
    "epsilon_exponential_decay = .99"
   ]
  },
  {
   "cell_type": "markdown",
   "metadata": {},
   "source": [
    "## Create DDQN Agent"
   ]
  },
  {
   "cell_type": "markdown",
   "metadata": {},
   "source": [
    "We will use [TensorFlow](https://www.tensorflow.org/) to create our Double Deep Q-Network ."
   ]
  },
  {
   "cell_type": "code",
   "execution_count": 19,
   "metadata": {
    "ExecuteTime": {
     "end_time": "2020-06-22T18:55:17.001362Z",
     "start_time": "2020-06-22T18:55:16.991955Z"
    }
   },
   "outputs": [],
   "source": [
    "tf.keras.backend.clear_session()"
   ]
  },
  {
   "cell_type": "code",
   "execution_count": 20,
   "metadata": {
    "ExecuteTime": {
     "end_time": "2020-06-22T18:55:17.610034Z",
     "start_time": "2020-06-22T18:55:17.002991Z"
    }
   },
   "outputs": [],
   "source": [
    "ddqn = DDQNAgent(state_dim=state_dim,\n",
    "                 num_actions=num_actions,\n",
    "                 learning_rate=learning_rate,\n",
    "                 gamma=gamma,\n",
    "                 epsilon_start=epsilon_start,\n",
    "                 epsilon_end=epsilon_end,\n",
    "                 epsilon_decay_steps=epsilon_decay_steps,\n",
    "                 epsilon_exponential_decay=epsilon_exponential_decay,\n",
    "                 replay_capacity=replay_capacity,\n",
    "                 architecture=architecture,\n",
    "                 l2_reg=l2_reg,\n",
    "                 tau=tau,\n",
    "                 batch_size=batch_size)"
   ]
  },
  {
   "cell_type": "code",
   "execution_count": 21,
   "metadata": {
    "ExecuteTime": {
     "end_time": "2020-06-22T18:55:17.615621Z",
     "start_time": "2020-06-22T18:55:17.611049Z"
    }
   },
   "outputs": [
    {
     "name": "stdout",
     "output_type": "stream",
     "text": [
      "Model: \"sequential\"\n",
      "_________________________________________________________________\n",
      "Layer (type)                 Output Shape              Param #   \n",
      "=================================================================\n",
      "Dense_1 (Dense)              (None, 256)               2816      \n",
      "_________________________________________________________________\n",
      "Dense_2 (Dense)              (None, 256)               65792     \n",
      "_________________________________________________________________\n",
      "dropout (Dropout)            (None, 256)               0         \n",
      "_________________________________________________________________\n",
      "Output (Dense)               (None, 3)                 771       \n",
      "=================================================================\n",
      "Total params: 69,379\n",
      "Trainable params: 69,379\n",
      "Non-trainable params: 0\n",
      "_________________________________________________________________\n"
     ]
    }
   ],
   "source": [
    "ddqn.online_network.summary()"
   ]
  },
  {
   "cell_type": "markdown",
   "metadata": {},
   "source": [
    "## Run Experiment"
   ]
  },
  {
   "cell_type": "markdown",
   "metadata": {},
   "source": [
    "### Set parameters"
   ]
  },
  {
   "cell_type": "code",
   "execution_count": 22,
   "metadata": {
    "ExecuteTime": {
     "end_time": "2020-06-22T18:55:17.635835Z",
     "start_time": "2020-06-22T18:55:17.617132Z"
    }
   },
   "outputs": [],
   "source": [
    "total_steps = 0\n",
    "max_episodes = 1000"
   ]
  },
  {
   "cell_type": "markdown",
   "metadata": {},
   "source": [
    "### Initialize variables"
   ]
  },
  {
   "cell_type": "code",
   "execution_count": 23,
   "metadata": {
    "ExecuteTime": {
     "end_time": "2020-06-22T18:55:17.643974Z",
     "start_time": "2020-06-22T18:55:17.637032Z"
    }
   },
   "outputs": [],
   "source": [
    "episode_time, navs, market_navs, diffs, episode_eps = [], [], [], [], []"
   ]
  },
  {
   "cell_type": "markdown",
   "metadata": {},
   "source": [
    "## Visualiztion"
   ]
  },
  {
   "cell_type": "code",
   "execution_count": 24,
   "metadata": {
    "ExecuteTime": {
     "end_time": "2020-06-22T18:55:17.651693Z",
     "start_time": "2020-06-22T18:55:17.645067Z"
    }
   },
   "outputs": [],
   "source": [
    "def track_results(episode, nav_ma_100, nav_ma_10,\n",
    "                  market_nav_100, market_nav_10,\n",
    "                  win_ratio, total, epsilon):\n",
    "    time_ma = np.mean([episode_time[-100:]])\n",
    "    T = np.sum(episode_time)\n",
    "    \n",
    "    template = '{:>4d} | {} | Agent: {:>6.1%} ({:>6.1%}) | '\n",
    "    template += 'Market: {:>6.1%} ({:>6.1%}) | '\n",
    "    template += 'Wins: {:>5.1%} | eps: {:>6.3f}'\n",
    "    print(template.format(episode, format_time(total), \n",
    "                          nav_ma_100-1, nav_ma_10-1, \n",
    "                          market_nav_100-1, market_nav_10-1, \n",
    "                          win_ratio, epsilon))"
   ]
  },
  {
   "cell_type": "markdown",
   "metadata": {},
   "source": [
    "### Train Agent"
   ]
  },
  {
   "cell_type": "code",
   "execution_count": 25,
   "metadata": {
    "ExecuteTime": {
     "end_time": "2020-06-23T00:03:36.237053Z",
     "start_time": "2020-06-22T18:55:17.652918Z"
    }
   },
   "outputs": [
    {
     "name": "stderr",
     "output_type": "stream",
     "text": [
      "/home/chengyu/anaconda3/envs/pyfinance/lib/python3.8/site-packages/numpy/core/fromnumeric.py:3334: RuntimeWarning: Mean of empty slice.\n",
      "  return _methods._mean(a, axis=axis, dtype=dtype,\n",
      "/home/chengyu/anaconda3/envs/pyfinance/lib/python3.8/site-packages/numpy/core/_methods.py:161: RuntimeWarning: invalid value encountered in double_scalars\n",
      "  ret = ret.dtype.type(ret / rcount)\n"
     ]
    },
    {
     "name": "stdout",
     "output_type": "stream",
     "text": [
      "  10 | 00:00:01 | Agent: -39.1% (-39.1%) | Market:   4.6% (  4.6%) | Wins: 20.0% | eps:  0.960\n"
     ]
    },
    {
     "name": "stderr",
     "output_type": "stream",
     "text": [
      "<ipython-input-14-a9539b52dba1>:109: FutureWarning: Using a non-tuple sequence for multidimensional indexing is deprecated; use `arr[tuple(seq)]` instead of `arr[seq]`. In the future this will be interpreted as an array index, `arr[np.array(seq)]`, which will result either in an error or a different result.\n",
      "  q_values[[self.idx, actions]] = targets\n"
     ]
    },
    {
     "name": "stdout",
     "output_type": "stream",
     "text": [
      "  20 | 00:00:48 | Agent: -33.9% (-28.8%) | Market:  23.2% ( 41.8%) | Wins: 20.0% | eps:  0.921\n",
      "  30 | 00:02:52 | Agent: -27.6% (-14.8%) | Market:  20.6% ( 15.4%) | Wins: 20.0% | eps:  0.881\n",
      "  40 | 00:04:58 | Agent: -23.3% (-10.6%) | Market:  21.2% ( 23.0%) | Wins: 22.5% | eps:  0.842\n",
      "  50 | 00:07:05 | Agent: -22.0% (-16.6%) | Market:  20.2% ( 16.4%) | Wins: 22.0% | eps:  0.802\n",
      "  60 | 00:09:17 | Agent: -22.0% (-22.0%) | Market:  24.5% ( 45.6%) | Wins: 23.3% | eps:  0.762\n",
      "  70 | 00:11:33 | Agent: -20.5% (-11.3%) | Market:  29.4% ( 59.3%) | Wins: 22.9% | eps:  0.723\n",
      "  80 | 00:13:56 | Agent: -20.9% (-24.4%) | Market:  27.6% ( 14.7%) | Wins: 23.8% | eps:  0.683\n",
      "  90 | 00:16:23 | Agent: -20.7% (-18.7%) | Market:  24.3% ( -2.1%) | Wins: 25.6% | eps:  0.644\n",
      " 100 | 00:18:53 | Agent: -20.8% (-21.7%) | Market:  24.0% ( 20.9%) | Wins: 25.0% | eps:  0.604\n",
      " 110 | 00:21:29 | Agent: -16.1% (  8.2%) | Market:  26.0% ( 25.0%) | Wins: 26.0% | eps:  0.564\n",
      " 120 | 00:24:08 | Agent: -10.0% ( 31.5%) | Market:  29.9% ( 80.6%) | Wins: 26.0% | eps:  0.525\n",
      " 130 | 00:26:51 | Agent:  -9.9% (-13.1%) | Market:  36.4% ( 80.3%) | Wins: 26.0% | eps:  0.485\n",
      " 140 | 00:29:39 | Agent:  -9.0% ( -1.9%) | Market:  35.4% ( 13.4%) | Wins: 27.0% | eps:  0.446\n",
      " 150 | 00:32:31 | Agent:  -8.9% (-15.4%) | Market:  37.9% ( 41.0%) | Wins: 26.0% | eps:  0.406\n",
      " 160 | 00:35:26 | Agent:  -6.5% (  1.7%) | Market:  34.9% ( 15.7%) | Wins: 28.0% | eps:  0.366\n",
      " 170 | 00:38:25 | Agent:  -5.6% ( -2.6%) | Market:  32.7% ( 37.8%) | Wins: 29.0% | eps:  0.327\n",
      " 180 | 00:41:27 | Agent:  -1.7% ( 15.2%) | Market:  37.6% ( 63.3%) | Wins: 29.0% | eps:  0.287\n",
      " 190 | 00:44:34 | Agent:   3.8% ( 35.9%) | Market:  43.9% ( 61.3%) | Wins: 28.0% | eps:  0.248\n",
      " 200 | 00:47:46 | Agent:   8.8% ( 28.5%) | Market:  43.9% ( 20.4%) | Wins: 30.0% | eps:  0.208\n",
      " 210 | 00:51:01 | Agent:   8.2% (  2.0%) | Market:  45.1% ( 37.2%) | Wins: 29.0% | eps:  0.168\n",
      " 220 | 00:54:20 | Agent:   6.2% ( 11.8%) | Market:  41.2% ( 41.3%) | Wins: 32.0% | eps:  0.129\n",
      " 230 | 00:57:45 | Agent:   8.9% ( 13.4%) | Market:  35.5% ( 24.2%) | Wins: 34.0% | eps:  0.089\n",
      " 240 | 01:01:14 | Agent:   9.1% (  0.1%) | Market:  32.7% (-14.7%) | Wins: 36.0% | eps:  0.050\n",
      " 250 | 01:04:48 | Agent:  10.1% ( -5.1%) | Market:  31.5% ( 28.6%) | Wins: 37.0% | eps:  0.010\n",
      " 260 | 01:08:25 | Agent:  11.4% ( 14.3%) | Market:  33.1% ( 31.6%) | Wins: 35.0% | eps:  0.009\n",
      " 270 | 01:12:04 | Agent:  13.7% ( 21.2%) | Market:  31.5% ( 21.8%) | Wins: 36.0% | eps:  0.008\n",
      " 280 | 01:15:44 | Agent:  12.8% (  5.6%) | Market:  33.6% ( 84.3%) | Wins: 34.0% | eps:  0.007\n",
      " 290 | 01:19:26 | Agent:   9.6% (  4.2%) | Market:  28.4% (  9.6%) | Wins: 35.0% | eps:  0.007\n",
      " 300 | 01:23:08 | Agent:   6.5% ( -2.1%) | Market:  31.0% ( 46.1%) | Wins: 34.0% | eps:  0.006\n",
      " 310 | 01:26:52 | Agent:  10.0% ( 36.9%) | Market:  31.0% ( 36.7%) | Wins: 37.0% | eps:  0.005\n",
      " 320 | 01:30:38 | Agent:  11.9% ( 30.0%) | Market:  30.9% ( 40.5%) | Wins: 36.0% | eps:  0.005\n",
      " 330 | 01:34:25 | Agent:  14.4% ( 39.0%) | Market:  32.3% ( 38.6%) | Wins: 38.0% | eps:  0.004\n",
      " 340 | 01:38:14 | Agent:  17.9% ( 35.1%) | Market:  41.8% ( 79.7%) | Wins: 37.0% | eps:  0.004\n",
      " 350 | 01:42:03 | Agent:  22.2% ( 38.0%) | Market:  42.4% ( 35.0%) | Wins: 41.0% | eps:  0.004\n",
      " 360 | 01:45:53 | Agent:  23.8% ( 30.6%) | Market:  39.9% (  6.4%) | Wins: 45.0% | eps:  0.003\n",
      " 370 | 01:49:46 | Agent:  23.7% ( 19.9%) | Market:  40.8% ( 30.6%) | Wins: 44.0% | eps:  0.003\n",
      " 380 | 01:53:39 | Agent:  26.9% ( 37.9%) | Market:  39.3% ( 69.3%) | Wins: 46.0% | eps:  0.003\n",
      " 390 | 01:57:34 | Agent:  29.8% ( 32.9%) | Market:  42.6% ( 42.7%) | Wins: 47.0% | eps:  0.002\n",
      " 400 | 02:01:30 | Agent:  32.3% ( 22.7%) | Market:  40.2% ( 22.7%) | Wins: 48.0% | eps:  0.002\n",
      " 410 | 02:05:27 | Agent:  30.9% ( 22.7%) | Market:  42.3% ( 57.8%) | Wins: 46.0% | eps:  0.002\n",
      " 420 | 02:09:26 | Agent:  31.8% ( 39.5%) | Market:  38.6% (  2.7%) | Wins: 49.0% | eps:  0.002\n",
      " 430 | 02:13:27 | Agent:  28.3% (  3.9%) | Market:  36.7% ( 19.6%) | Wins: 47.0% | eps:  0.002\n",
      " 440 | 02:17:29 | Agent:  28.7% ( 38.7%) | Market:  30.4% ( 17.3%) | Wins: 48.0% | eps:  0.001\n",
      " 450 | 02:21:33 | Agent:  27.8% ( 29.1%) | Market:  31.8% ( 48.6%) | Wins: 46.0% | eps:  0.001\n",
      " 460 | 02:25:39 | Agent:  29.8% ( 50.6%) | Market:  38.0% ( 68.8%) | Wins: 43.0% | eps:  0.001\n",
      " 470 | 02:29:46 | Agent:  32.7% ( 48.8%) | Market:  37.1% ( 21.5%) | Wins: 45.0% | eps:  0.001\n",
      " 480 | 02:33:54 | Agent:  32.5% ( 35.9%) | Market:  35.9% ( 56.9%) | Wins: 47.0% | eps:  0.001\n",
      " 490 | 02:38:05 | Agent:  33.4% ( 41.9%) | Market:  31.6% ( -0.1%) | Wins: 49.0% | eps:  0.001\n",
      " 500 | 02:42:16 | Agent:  32.0% (  9.3%) | Market:  32.3% ( 29.9%) | Wins: 48.0% | eps:  0.001\n",
      " 510 | 02:46:30 | Agent:  36.0% ( 62.5%) | Market:  30.2% ( 36.8%) | Wins: 52.0% | eps:  0.001\n",
      " 520 | 02:50:46 | Agent:  32.5% (  4.3%) | Market:  32.8% ( 29.0%) | Wins: 51.0% | eps:  0.001\n",
      " 530 | 02:55:04 | Agent:  38.5% ( 64.0%) | Market:  33.1% ( 22.4%) | Wins: 52.0% | eps:  0.001\n",
      " 540 | 02:59:25 | Agent:  41.2% ( 65.8%) | Market:  33.1% ( 17.4%) | Wins: 51.0% | eps:  0.001\n",
      " 550 | 03:03:47 | Agent:  41.1% ( 28.3%) | Market:  33.2% ( 49.0%) | Wins: 50.0% | eps:  0.000\n",
      " 560 | 03:08:11 | Agent:  40.4% ( 42.9%) | Market:  29.9% ( 35.9%) | Wins: 50.0% | eps:  0.000\n",
      " 570 | 03:12:36 | Agent:  39.1% ( 36.6%) | Market:  31.1% ( 34.2%) | Wins: 50.0% | eps:  0.000\n",
      " 580 | 03:17:03 | Agent:  37.2% ( 16.7%) | Market:  33.4% ( 79.9%) | Wins: 48.0% | eps:  0.000\n",
      " 590 | 03:21:32 | Agent:  34.2% ( 11.3%) | Market:  37.0% ( 35.8%) | Wins: 45.0% | eps:  0.000\n",
      " 600 | 03:26:03 | Agent:  34.6% ( 13.4%) | Market:  39.2% ( 51.3%) | Wins: 44.0% | eps:  0.000\n",
      " 610 | 03:30:35 | Agent:  32.1% ( 37.5%) | Market:  38.5% ( 29.6%) | Wins: 43.0% | eps:  0.000\n",
      " 620 | 03:35:09 | Agent:  35.9% ( 42.3%) | Market:  39.6% ( 40.6%) | Wins: 44.0% | eps:  0.000\n",
      " 630 | 03:39:45 | Agent:  34.8% ( 53.2%) | Market:  40.7% ( 33.5%) | Wins: 44.0% | eps:  0.000\n",
      " 640 | 03:44:24 | Agent:  28.9% (  6.5%) | Market:  44.5% ( 54.8%) | Wins: 40.0% | eps:  0.000\n",
      " 650 | 03:49:03 | Agent:  33.5% ( 74.2%) | Market:  40.2% (  6.4%) | Wins: 42.0% | eps:  0.000\n",
      " 660 | 03:53:45 | Agent:  32.7% ( 35.1%) | Market:  38.9% ( 22.9%) | Wins: 43.0% | eps:  0.000\n",
      " 670 | 03:58:28 | Agent:  34.7% ( 56.5%) | Market:  37.5% ( 20.2%) | Wins: 45.0% | eps:  0.000\n",
      " 680 | 04:03:13 | Agent:  33.8% (  8.0%) | Market:  31.2% ( 16.4%) | Wins: 45.0% | eps:  0.000\n",
      " 690 | 04:08:01 | Agent:  35.8% ( 30.7%) | Market:  30.5% ( 29.1%) | Wins: 46.0% | eps:  0.000\n",
      " 700 | 04:12:51 | Agent:  37.5% ( 30.7%) | Market:  27.8% ( 24.7%) | Wins: 50.0% | eps:  0.000\n",
      " 710 | 04:17:42 | Agent:  36.0% ( 22.9%) | Market:  25.4% (  5.0%) | Wins: 51.0% | eps:  0.000\n",
      " 720 | 04:22:35 | Agent:  34.2% ( 24.1%) | Market:  25.5% ( 41.7%) | Wins: 47.0% | eps:  0.000\n",
      " 730 | 04:27:29 | Agent:  34.1% ( 52.0%) | Market:  26.5% ( 44.2%) | Wins: 49.0% | eps:  0.000\n",
      " 740 | 04:32:26 | Agent:  37.4% ( 39.4%) | Market:  25.7% ( 46.5%) | Wins: 52.0% | eps:  0.000\n",
      " 750 | 04:37:25 | Agent:  32.2% ( 22.5%) | Market:  28.4% ( 33.3%) | Wins: 51.0% | eps:  0.000\n",
      " 760 | 04:42:25 | Agent:  29.1% (  4.5%) | Market:  26.9% (  8.3%) | Wins: 49.0% | eps:  0.000\n",
      " 770 | 04:47:27 | Agent:  27.0% ( 34.7%) | Market:  28.1% ( 31.9%) | Wins: 48.0% | eps:  0.000\n",
      " 780 | 04:52:31 | Agent:  28.4% ( 22.2%) | Market:  28.0% ( 15.5%) | Wins: 51.0% | eps:  0.000\n",
      " 790 | 04:57:37 | Agent:  27.2% ( 18.5%) | Market:  29.0% ( 38.5%) | Wins: 49.0% | eps:  0.000\n",
      " 800 | 05:02:46 | Agent:  28.4% ( 43.2%) | Market:  29.3% ( 28.1%) | Wins: 47.0% | eps:  0.000\n",
      " 810 | 05:07:57 | Agent:  29.4% ( 33.0%) | Market:  35.6% ( 67.6%) | Wins: 43.0% | eps:  0.000\n",
      " 820 | 05:13:09 | Agent:  31.4% ( 44.3%) | Market:  34.7% ( 33.0%) | Wins: 43.0% | eps:  0.000\n",
      " 830 | 05:18:25 | Agent:  28.2% ( 19.7%) | Market:  30.3% (  0.7%) | Wins: 44.0% | eps:  0.000\n",
      " 840 | 05:23:43 | Agent:  27.9% ( 36.0%) | Market:  26.7% (  9.7%) | Wins: 47.0% | eps:  0.000\n",
      " 850 | 05:29:02 | Agent:  26.0% (  3.7%) | Market:  26.2% ( 28.5%) | Wins: 45.0% | eps:  0.000\n",
      " 860 | 05:34:24 | Agent:  29.7% ( 41.9%) | Market:  27.7% ( 23.3%) | Wins: 47.0% | eps:  0.000\n",
      " 870 | 05:39:49 | Agent:  34.9% ( 86.1%) | Market:  24.0% ( -4.8%) | Wins: 50.0% | eps:  0.000\n",
      " 880 | 05:45:16 | Agent:  34.2% ( 15.3%) | Market:  23.8% ( 13.1%) | Wins: 49.0% | eps:  0.000\n",
      " 890 | 05:50:45 | Agent:  36.4% ( 40.5%) | Market:  22.2% ( 22.3%) | Wins: 52.0% | eps:  0.000\n",
      " 900 | 05:56:16 | Agent:  35.9% ( 38.8%) | Market:  22.0% ( 26.5%) | Wins: 55.0% | eps:  0.000\n",
      " 910 | 06:01:48 | Agent:  38.5% ( 59.2%) | Market:  15.5% (  2.9%) | Wins: 59.0% | eps:  0.000\n",
      " 920 | 06:07:22 | Agent:  41.3% ( 72.3%) | Market:  16.9% ( 46.4%) | Wins: 61.0% | eps:  0.000\n",
      " 930 | 06:12:58 | Agent:  48.0% ( 86.1%) | Market:  15.2% (-16.4%) | Wins: 63.0% | eps:  0.000\n",
      " 940 | 06:18:36 | Agent:  47.0% ( 26.2%) | Market:  15.8% ( 15.7%) | Wins: 61.0% | eps:  0.000\n",
      " 950 | 06:24:16 | Agent:  55.5% ( 88.6%) | Market:  17.2% ( 43.3%) | Wins: 65.0% | eps:  0.000\n",
      " 960 | 06:29:59 | Agent:  52.7% ( 13.6%) | Market:  21.4% ( 65.3%) | Wins: 61.0% | eps:  0.000\n",
      " 970 | 06:35:43 | Agent:  48.4% ( 43.2%) | Market:  22.2% (  2.4%) | Wins: 59.0% | eps:  0.000\n",
      " 980 | 06:41:31 | Agent:  53.0% ( 61.5%) | Market:  22.9% ( 20.5%) | Wins: 62.0% | eps:  0.000\n",
      " 990 | 06:47:21 | Agent:  57.3% ( 83.8%) | Market:  19.9% ( -7.9%) | Wins: 62.0% | eps:  0.000\n",
      "1000 | 06:53:14 | Agent:  55.6% ( 21.2%) | Market:  17.6% (  3.5%) | Wins: 60.0% | eps:  0.000\n"
     ]
    }
   ],
   "source": [
    "start = time()\n",
    "results = []\n",
    "for episode in range(1, max_episodes + 1):\n",
    "    this_state = trading_environment.reset()\n",
    "    for episode_step in range(max_episode_steps):\n",
    "        action = ddqn.epsilon_greedy_policy(this_state.reshape(-1, state_dim))\n",
    "        next_state, reward, done, _ = trading_environment.step(action)\n",
    "    \n",
    "        ddqn.memorize_transition(this_state, \n",
    "                                 action, \n",
    "                                 reward, \n",
    "                                 next_state, \n",
    "                                 0.0 if done else 1.0)\n",
    "        if ddqn.train:\n",
    "            ddqn.experience_replay()\n",
    "        if done:\n",
    "            break\n",
    "        this_state = next_state\n",
    "\n",
    "    result = trading_environment.env.simulator.result()\n",
    "    final = result.iloc[-1]\n",
    "\n",
    "    nav = final.nav * (1 + final.strategy_return)\n",
    "    navs.append(nav)\n",
    "\n",
    "    market_nav = final.market_nav\n",
    "    market_navs.append(market_nav)\n",
    "\n",
    "    diff = nav - market_nav\n",
    "    diffs.append(diff)\n",
    "    if episode % 10 == 0:\n",
    "        track_results(episode, np.mean(navs[-100:]), np.mean(navs[-10:]), \n",
    "                      np.mean(market_navs[-100:]), np.mean(market_navs[-10:]), \n",
    "                      np.sum([s > 0 for s in diffs[-100:]])/min(len(diffs), 100), \n",
    "                      time() - start, ddqn.epsilon)\n",
    "    if len(diffs) > 25 and all([r > 0 for r in diffs[-25:]]):\n",
    "        print(result.tail())\n",
    "        break\n",
    "\n",
    "trading_environment.close()"
   ]
  },
  {
   "cell_type": "markdown",
   "metadata": {},
   "source": [
    "### Store Results"
   ]
  },
  {
   "cell_type": "code",
   "execution_count": 26,
   "metadata": {
    "ExecuteTime": {
     "end_time": "2020-06-23T00:03:36.248773Z",
     "start_time": "2020-06-23T00:03:36.238411Z"
    }
   },
   "outputs": [
    {
     "name": "stdout",
     "output_type": "stream",
     "text": [
      "<class 'pandas.core.frame.DataFrame'>\n",
      "Int64Index: 1000 entries, 1 to 1000\n",
      "Data columns (total 4 columns):\n",
      " #   Column             Non-Null Count  Dtype  \n",
      "---  ------             --------------  -----  \n",
      " 0   Agent              1000 non-null   float64\n",
      " 1   Market             1000 non-null   float64\n",
      " 2   Difference         1000 non-null   float64\n",
      " 3   Strategy Wins (%)  901 non-null    float64\n",
      "dtypes: float64(4)\n",
      "memory usage: 39.1 KB\n"
     ]
    }
   ],
   "source": [
    "results = pd.DataFrame({'Episode': list(range(1, episode+1)),\n",
    "                        'Agent': navs,\n",
    "                        'Market': market_navs,\n",
    "                        'Difference': diffs}).set_index('Episode')\n",
    "\n",
    "results['Strategy Wins (%)'] = (results.Difference > 0).rolling(100).sum()\n",
    "results.info()"
   ]
  },
  {
   "cell_type": "code",
   "execution_count": 27,
   "metadata": {
    "ExecuteTime": {
     "end_time": "2020-06-23T00:03:36.273693Z",
     "start_time": "2020-06-23T00:03:36.250683Z"
    }
   },
   "outputs": [],
   "source": [
    "results.to_csv(results_path / 'results.csv', index=False)"
   ]
  },
  {
   "cell_type": "code",
   "execution_count": 28,
   "metadata": {
    "ExecuteTime": {
     "end_time": "2020-06-23T00:03:36.579693Z",
     "start_time": "2020-06-23T00:03:36.274946Z"
    }
   },
   "outputs": [
    {
     "data": {
      "image/png": "[encoded data removed]",
      "text/plain": [
       "<Figure size 432x288 with 1 Axes>"
      ]
     },
     "metadata": {},
     "output_type": "display_data"
    }
   ],
   "source": [
    "with sns.axes_style('white'):\n",
    "    sns.distplot(results.Difference)\n",
    "    sns.despine()"
   ]
  },
  {
   "cell_type": "markdown",
   "metadata": {},
   "source": [
    "### Evaluate Results"
   ]
  },
  {
   "cell_type": "code",
   "execution_count": 29,
   "metadata": {
    "ExecuteTime": {
     "end_time": "2020-06-23T00:03:36.585823Z",
     "start_time": "2020-06-23T00:03:36.580808Z"
    }
   },
   "outputs": [
    {
     "name": "stdout",
     "output_type": "stream",
     "text": [
      "<class 'pandas.core.frame.DataFrame'>\n",
      "Int64Index: 1000 entries, 1 to 1000\n",
      "Data columns (total 4 columns):\n",
      " #   Column             Non-Null Count  Dtype  \n",
      "---  ------             --------------  -----  \n",
      " 0   Agent              1000 non-null   float64\n",
      " 1   Market             1000 non-null   float64\n",
      " 2   Difference         1000 non-null   float64\n",
      " 3   Strategy Wins (%)  901 non-null    float64\n",
      "dtypes: float64(4)\n",
      "memory usage: 39.1 KB\n"
     ]
    }
   ],
   "source": [
    "results.info()"
   ]
  },
  {
   "cell_type": "markdown",
   "metadata": {},
   "source": [
    "The following diagram shows the rolling average of agent and market returns over 100 periods on the left, and the share of the last 100 periods the agent outperformed the market on the right. It uses AAPL stock data for which there are some 9,000 daily price and volume observations. Training stopped after 14,000 trading periods when the agent beat the market 10 consecutive times.\n",
    "\n",
    "It shows how the agent's performance improves significantly while exploring at a higher rate over the first ~3,000 periods (that is, years) and approaches a level where it outperforms the market around 40 percent of the time, despite transaction costs. In a few instances, it beats the market about half the time out of 100 periods:"
   ]
  },
  {
   "cell_type": "code",
   "execution_count": 30,
   "metadata": {
    "ExecuteTime": {
     "end_time": "2020-06-23T00:03:37.361710Z",
     "start_time": "2020-06-23T00:03:36.587097Z"
    }
   },
   "outputs": [
    {
     "data": {
      "image/png": "[encoded data removed]",
      "text/plain": [
       "<Figure size 1008x288 with 2 Axes>"
      ]
     },
     "metadata": {},
     "output_type": "display_data"
    }
   ],
   "source": [
    "fig, axes = plt.subplots(ncols=2, figsize=(14, 4), sharey=True)\n",
    "\n",
    "df1 = (results[['Agent', 'Market']]\n",
    "       .sub(1)\n",
    "       .rolling(100)\n",
    "       .mean())\n",
    "df1.plot(ax=axes[0],\n",
    "         title='Annual Returns (Moving Average)',\n",
    "         lw=1)\n",
    "\n",
    "df2 = results['Strategy Wins (%)'].div(100).rolling(50).mean()\n",
    "df2.plot(ax=axes[1],\n",
    "         title='Agent Outperformance (%, Moving Average)')\n",
    "\n",
    "for ax in axes:\n",
    "    ax.yaxis.set_major_formatter(\n",
    "        FuncFormatter(lambda y, _: '{:.0%}'.format(y)))\n",
    "    ax.xaxis.set_major_formatter(\n",
    "        FuncFormatter(lambda x, _: '{:,.0f}'.format(x)))\n",
    "axes[1].axhline(.5, ls='--', c='k', lw=1)\n",
    "\n",
    "sns.despine()\n",
    "fig.tight_layout()\n",
    "fig.savefig(results_path / 'performance', dpi=300)"
   ]
  },
  {
   "cell_type": "markdown",
   "metadata": {},
   "source": [
    "## Summary"
   ]
  },
  {
   "cell_type": "markdown",
   "metadata": {},
   "source": [
    "\n",
    "This relatively simple agent uses limited information beyond the latest market data and the reward signal compared to the machine learning models we covered elsewhere in this book. Nonetheless, it learns to make a profit and approach the market (after training on several thousand year's worth of data, which takes around 30 minutes).\n",
    "\n",
    "Keep in mind that using a single stock also increase the risk of overfitting the data by a lot. You can test your trained agent on new data using the saved model (see the notebook on the Lunar Lander).\n",
    "\n",
    "In conclusion, we have demonstrated the mechanics of setting up a RL trading environment and experimented with a basic agent that uses a small number of technical indicators. You should try to extend both the environment and the agent so that you can choose from several assets, size their positions, and manage risks.\n",
    "\n",
    "More specifically, the environment samples a stock price time series for a single ticker from a random start date to simulate a trading period of 252 days, or 1 year (default). The agent has three options, that is, buying (long), short, or exiting its position, and faces a 10bps trading plus a 1bps time cost per period."
   ]
  }
 ],
 "metadata": {
  "kernelspec": {
   "display_name": "pyfinance",
   "language": "python",
   "name": "pyfinance"
  },
  "language_info": {
   "codemirror_mode": {
    "name": "ipython",
    "version": 3
   },
   "file_extension": ".py",
   "mimetype": "text/x-python",
   "name": "python",
   "nbconvert_exporter": "python",
   "pygments_lexer": "ipython3",
   "version": "3.8.2"
  },
  "toc": {
   "base_numbering": 1,
   "nav_menu": {},
   "number_sections": true,
   "sideBar": true,
   "skip_h1_title": true,
   "title_cell": "Table of Contents",
   "title_sidebar": "Contents",
   "toc_cell": false,
   "toc_position": {
    "height": "calc(100% - 180px)",
    "left": "10px",
    "top": "150px",
    "width": "230.906px"
   },
   "toc_section_display": true,
   "toc_window_display": true
  }
 },
 "nbformat": 4,
 "nbformat_minor": 4
}
